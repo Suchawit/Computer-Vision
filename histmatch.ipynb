{
 "cells": [
  {
   "cell_type": "code",
   "execution_count": 33,
   "metadata": {},
   "outputs": [],
   "source": [
    "import numpy as np\n",
    "def MATCHHISTOGRAMS(pixels,width,height,Href,nref):\n",
    "    n = width*height\n",
    "    r = n/nref\n",
    "    h = pixels\n",
    "    F = np.arange(256)\n",
    "    c = 0.0\n",
    "    c = float(c)\n",
    "    for i in range(256):\n",
    "        for j in range(256):\n",
    "            while c < 256:\n",
    "                if c < r*Href[i]+1:\n",
    "                    c = c + h[i]\n",
    "                    F[i] = j\n",
    "                    \n",
    "    return F\n"
   ]
  },
  {
   "cell_type": "code",
   "execution_count": null,
   "metadata": {},
   "outputs": [],
   "source": []
  }
 ],
 "metadata": {
  "kernelspec": {
   "display_name": "Python 3",
   "language": "python",
   "name": "python3"
  },
  "language_info": {
   "codemirror_mode": {
    "name": "ipython",
    "version": 3
   },
   "file_extension": ".py",
   "mimetype": "text/x-python",
   "name": "python",
   "nbconvert_exporter": "python",
   "pygments_lexer": "ipython3",
   "version": "3.7.3"
  }
 },
 "nbformat": 4,
 "nbformat_minor": 2
}
